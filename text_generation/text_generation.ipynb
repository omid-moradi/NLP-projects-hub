{
  "cells": [
    {
      "cell_type": "code",
      "source": [
        "from google.colab import drive\n",
        "drive.mount('/content/drive')"
      ],
      "metadata": {
        "colab": {
          "base_uri": "https://localhost:8080/"
        },
        "id": "ALS6ACfP-TPI",
        "outputId": "5f86c21d-905b-4afd-ea52-74742db3bca5"
      },
      "execution_count": 1,
      "outputs": [
        {
          "output_type": "stream",
          "name": "stdout",
          "text": [
            "Mounted at /content/drive\n"
          ]
        }
      ]
    },
    {
      "cell_type": "code",
      "execution_count": 2,
      "metadata": {
        "id": "yG_n40gFzf9s"
      },
      "outputs": [],
      "source": [
        "import tensorflow as tf"
      ]
    },
    {
      "cell_type": "code",
      "execution_count": 3,
      "metadata": {
        "id": "pujMhnz2-RC6"
      },
      "outputs": [],
      "source": [
        "import numpy as np\n",
        "import os\n",
        "import time"
      ]
    },
    {
      "cell_type": "markdown",
      "metadata": {
        "id": "UHjdCjDuSvX_"
      },
      "source": [
        "### Read the data"
      ]
    },
    {
      "cell_type": "code",
      "execution_count": 4,
      "metadata": {
        "id": "aavnuByVymwK"
      },
      "outputs": [],
      "source": [
        "text_path = \"/content/drive/MyDrive/Colab Notebooks/NLP/2/10-Text Generator(Attar's Poem)/Sample/naserkhosro.txt\"\n",
        "text = open(text_path, 'rb').read().decode(encoding='utf-8')"
      ]
    },
    {
      "cell_type": "code",
      "execution_count": 5,
      "metadata": {
        "colab": {
          "base_uri": "https://localhost:8080/"
        },
        "id": "gfnnmEFe-RC_",
        "outputId": "21c2bd2f-5cb6-403a-d795-2e42ba770bf3"
      },
      "outputs": [
        {
          "output_type": "stream",
          "name": "stdout",
          "text": [
            "Length of text: 633429 characters\n"
          ]
        }
      ],
      "source": [
        "# length of text is the number of characters in it\n",
        "print ('Length of text: {} characters'.format(len(text)))"
      ]
    },
    {
      "cell_type": "code",
      "execution_count": 6,
      "metadata": {
        "colab": {
          "base_uri": "https://localhost:8080/"
        },
        "id": "Duhg9NrUymwO",
        "outputId": "8f06f7fa-3ddd-430c-a796-0e52c5ff75ba"
      },
      "outputs": [
        {
          "output_type": "stream",
          "name": "stdout",
          "text": [
            "ای قبهٔ گردندهٔ بی روزن خضرا\n",
            "با قامت فرتوتی و با قوت برنا\n",
            "فرزند توایم ای فلک، ای مادر بدمهر\n",
            "ای مادر ما چونکه همی کین کشی از ما؟\n",
            "فرزند تو این تیره تن خامش خاکی است\n",
            "پاکیزه خرد نیست نه این جوهر گویا\n",
            "تن خانهٔ این گوهر والای شریف است\n",
            "تو مادر این خانهٔ این\n"
          ]
        }
      ],
      "source": [
        "# Take a look at the first 250 characters in text\n",
        "print(text[:250])"
      ]
    },
    {
      "cell_type": "code",
      "execution_count": 7,
      "metadata": {
        "colab": {
          "base_uri": "https://localhost:8080/"
        },
        "id": "IlCgQBRVymwR",
        "outputId": "7d45e787-d182-489b-a1cb-35b996c7214a"
      },
      "outputs": [
        {
          "output_type": "stream",
          "name": "stdout",
          "text": [
            "50 unique characters\n"
          ]
        }
      ],
      "source": [
        "# The unique characters in the file\n",
        "vocab = sorted(set(text))\n",
        "print('{} unique characters'.format(len(vocab)))"
      ]
    },
    {
      "cell_type": "markdown",
      "metadata": {
        "id": "rNnrKn_lL-IJ"
      },
      "source": [
        "## Process the text"
      ]
    },
    {
      "cell_type": "markdown",
      "metadata": {
        "id": "LFjSVAlWzf-N"
      },
      "source": [
        "### Vectorize the text\n",
        "\n",
        "Before training, we need to map strings to a numerical representation. Create two lookup tables: one mapping characters to numbers, and another for numbers to characters."
      ]
    },
    {
      "cell_type": "code",
      "execution_count": 8,
      "metadata": {
        "id": "IalZLbvOzf-F"
      },
      "outputs": [],
      "source": [
        "# Creating a mapping from unique characters to indices\n",
        "char2idx = {u:i for i, u in enumerate(vocab)}\n",
        "idx2char = np.array(vocab)\n",
        "\n",
        "text_as_int = np.array([char2idx[c] for c in text])"
      ]
    },
    {
      "cell_type": "markdown",
      "metadata": {
        "id": "tZfqhkYCymwX"
      },
      "source": [
        "Now we have an integer representation for each character. Notice that we mapped the character as indexes from 0 to `len(unique)`."
      ]
    },
    {
      "cell_type": "code",
      "execution_count": 9,
      "metadata": {
        "colab": {
          "base_uri": "https://localhost:8080/"
        },
        "id": "FYyNlCNXymwY",
        "outputId": "00e15e3b-d383-4f2e-e826-322e3b22c2b4"
      },
      "outputs": [
        {
          "output_type": "stream",
          "name": "stdout",
          "text": [
            "{\n",
            "  '\\n':   0,\n",
            "  ' ' :   1,\n",
            "  '!' :   2,\n",
            "  '(' :   3,\n",
            "  ')' :   4,\n",
            "  '.' :   5,\n",
            "  ':' :   6,\n",
            "  '«' :   7,\n",
            "  '»' :   8,\n",
            "  '،' :   9,\n",
            "  '؛' :  10,\n",
            "  '؟' :  11,\n",
            "  'ء' :  12,\n",
            "  'آ' :  13,\n",
            "  'ؤ' :  14,\n",
            "  'ئ' :  15,\n",
            "  'ا' :  16,\n",
            "  'ب' :  17,\n",
            "  'ة' :  18,\n",
            "  'ت' :  19,\n",
            "  ...\n",
            "}\n"
          ]
        }
      ],
      "source": [
        "print('{')\n",
        "for char,_ in zip(char2idx, range(20)):\n",
        "    print('  {:4s}: {:3d},'.format(repr(char), char2idx[char]))\n",
        "print('  ...\\n}')"
      ]
    },
    {
      "cell_type": "code",
      "execution_count": 10,
      "metadata": {
        "colab": {
          "base_uri": "https://localhost:8080/"
        },
        "id": "l1VKcQHcymwb",
        "outputId": "92057e52-414b-48f3-a5b9-884339522db6"
      },
      "outputs": [
        {
          "output_type": "stream",
          "name": "stdout",
          "text": [
            "'ای قبهٔ گردندهٔ بی روزن خضرا\\nب' ---- characters mapped to int ---- > [16 49  1 37 17 41 43  1 48 26 24 40 24 41 43  1 17 49  1 26 42 27 40  1\n",
            " 23 31 26 16  0 17]\n"
          ]
        }
      ],
      "source": [
        "# Show how the first 13 characters from the text are mapped to integers\n",
        "print ('{} ---- characters mapped to int ---- > {}'.format(repr(text[:30]), text_as_int[:30]))"
      ]
    },
    {
      "cell_type": "markdown",
      "metadata": {
        "id": "hgsVvVxnymwf"
      },
      "source": [
        "### Create training examples and targets\n",
        "\n",
        "Next divide the text into example sequences. Each input sequence will contain `seq_length` characters from the text.\n",
        "\n",
        "For each input sequence, the corresponding targets contain the same length of text, except shifted one character to the right.\n",
        "\n",
        "So break the text into chunks of `seq_length+1`. For example, say `seq_length` is 4 and our text is \"Hello\". The input sequence would be \"Hell\", and the target sequence \"ello\".\n",
        "\n",
        "To do this first use the `tf.data.Dataset.from_tensor_slices` function to convert the text vector into a stream of character indices."
      ]
    },
    {
      "cell_type": "code",
      "execution_count": 11,
      "metadata": {
        "id": "0UHJDA39zf-O"
      },
      "outputs": [],
      "source": [
        "# The maximum length sentence we want for a single input in characters\n",
        "seq_length = 100"
      ]
    },
    {
      "cell_type": "code",
      "execution_count": 12,
      "metadata": {
        "id": "H-zFw5O6-RDJ"
      },
      "outputs": [],
      "source": [
        "# Create training examples / targets\n",
        "char_dataset = tf.data.Dataset.from_tensor_slices(text_as_int)"
      ]
    },
    {
      "cell_type": "code",
      "execution_count": 13,
      "metadata": {
        "colab": {
          "base_uri": "https://localhost:8080/"
        },
        "id": "RplQyLSA-RDJ",
        "outputId": "fef43856-3282-41f9-9cff-b1ce3b68d2c2"
      },
      "outputs": [
        {
          "output_type": "stream",
          "name": "stdout",
          "text": [
            "16 ا\n",
            "49 ی\n",
            "1  \n",
            "37 ق\n",
            "17 ب\n",
            "41 ه\n",
            "43 ٔ\n",
            "1  \n",
            "48 گ\n",
            "26 ر\n"
          ]
        }
      ],
      "source": [
        "for i in char_dataset.take(10):\n",
        "    print(i.numpy(), idx2char[i.numpy()])"
      ]
    },
    {
      "cell_type": "markdown",
      "metadata": {
        "id": "-ZSYAcQV8OGP"
      },
      "source": [
        "### Sliding Window for Sequence Generation\n",
        "\n",
        "Instead of using simple batching, we use the **sliding window** method to generate overlapping sequences of length `seq_length + 1`.  \n",
        "This ensures that every character in the text contributes to multiple training samples, preserving the continuity of the text.  \n",
        "Compared to fixed-size batching, this approach creates **richer and more context-aware training data**, helping the model better capture character-level dependencies in the text.\n"
      ]
    },
    {
      "cell_type": "code",
      "execution_count": 14,
      "metadata": {
        "id": "l4hkDU3i7ozi"
      },
      "outputs": [],
      "source": [
        "# Sliding window: ساخت پنجره‌های طول ثابت با گام 1\n",
        "sequences = char_dataset.window(size=seq_length + 1, shift=1, drop_remainder=True)"
      ]
    },
    {
      "cell_type": "code",
      "source": [
        "# هر پنجره را به یک تانسور تبدیل می‌کنیم تا بتوان پردازشش کرد\n",
        "sequences = sequences.flat_map(lambda window: window.batch(seq_length + 1))"
      ],
      "metadata": {
        "id": "C1krUAxmGdpl"
      },
      "execution_count": 15,
      "outputs": []
    },
    {
      "cell_type": "markdown",
      "metadata": {
        "id": "UbLcIPBj_mWZ"
      },
      "source": [
        "For each sequence, duplicate and shift it to form the input and target text by using the `map` method to apply a simple function to each batch:"
      ]
    },
    {
      "cell_type": "code",
      "execution_count": 16,
      "metadata": {
        "id": "9NGu-FkO_kYU"
      },
      "outputs": [],
      "source": [
        "def split_input_target(chunk):\n",
        "    input_text = chunk[:-1]\n",
        "    target_text = chunk[1:]\n",
        "    return input_text, target_text\n",
        "\n",
        "dataset = sequences.map(split_input_target)"
      ]
    },
    {
      "cell_type": "markdown",
      "metadata": {
        "id": "hiCopyGZymwi"
      },
      "source": [
        "Print the first examples input and target values:"
      ]
    },
    {
      "cell_type": "code",
      "source": [
        "# بررسی ۳ نمونه اولیه\n",
        "for input_example, target_example in dataset.take(3):\n",
        "    print('Input: ', repr(''.join(idx2char[input_example.numpy()])))\n",
        "    print('Target:', repr(''.join(idx2char[target_example.numpy()])))\n",
        "    print('-' * 30)"
      ],
      "metadata": {
        "colab": {
          "base_uri": "https://localhost:8080/"
        },
        "id": "4ZbGZwW3GGEy",
        "outputId": "f945417e-55e4-49f6-b668-39af66535a78"
      },
      "execution_count": 17,
      "outputs": [
        {
          "output_type": "stream",
          "name": "stdout",
          "text": [
            "Input:  'ای قبهٔ گردندهٔ بی روزن خضرا\\nبا قامت فرتوتی و با قوت برنا\\nفرزند توایم ای فلک، ای مادر بدمهر\\nای مادر '\n",
            "Target: 'ی قبهٔ گردندهٔ بی روزن خضرا\\nبا قامت فرتوتی و با قوت برنا\\nفرزند توایم ای فلک، ای مادر بدمهر\\nای مادر م'\n",
            "------------------------------\n",
            "Input:  'ی قبهٔ گردندهٔ بی روزن خضرا\\nبا قامت فرتوتی و با قوت برنا\\nفرزند توایم ای فلک، ای مادر بدمهر\\nای مادر م'\n",
            "Target: ' قبهٔ گردندهٔ بی روزن خضرا\\nبا قامت فرتوتی و با قوت برنا\\nفرزند توایم ای فلک، ای مادر بدمهر\\nای مادر ما'\n",
            "------------------------------\n",
            "Input:  ' قبهٔ گردندهٔ بی روزن خضرا\\nبا قامت فرتوتی و با قوت برنا\\nفرزند توایم ای فلک، ای مادر بدمهر\\nای مادر ما'\n",
            "Target: 'قبهٔ گردندهٔ بی روزن خضرا\\nبا قامت فرتوتی و با قوت برنا\\nفرزند توایم ای فلک، ای مادر بدمهر\\nای مادر ما '\n",
            "------------------------------\n"
          ]
        }
      ]
    },
    {
      "cell_type": "markdown",
      "source": [
        "### Create Training Batches\n",
        "\n",
        "After generating overlapping input-target pairs using the **sliding window**, we now prepare the data for efficient training.\n",
        "\n",
        "Using `tf.data.Dataset.batch`, we group these pairs into batches of size `BATCH_SIZE`.  \n",
        "This batching ensures optimized parallel processing on GPUs and uniform batch sizes by setting `drop_remainder=True`.  \n",
        "The final `dataset` contains batches of sequences, each ready to be fed into the model during training.\n"
      ],
      "metadata": {
        "id": "4sZO8XjxIfbe"
      }
    },
    {
      "cell_type": "code",
      "source": [
        "BATCH_SIZE = 32\n",
        "dataset = dataset.batch(BATCH_SIZE, drop_remainder=True)\n",
        "\n",
        "dataset"
      ],
      "metadata": {
        "colab": {
          "base_uri": "https://localhost:8080/"
        },
        "id": "rYVD48MIIgsa",
        "outputId": "6dea2269-1258-4565-b4ca-2575ffbfd5b3"
      },
      "execution_count": 18,
      "outputs": [
        {
          "output_type": "execute_result",
          "data": {
            "text/plain": [
              "<_BatchDataset element_spec=(TensorSpec(shape=(32, None), dtype=tf.int64, name=None), TensorSpec(shape=(32, None), dtype=tf.int64, name=None))>"
            ]
          },
          "metadata": {},
          "execution_count": 18
        }
      ]
    },
    {
      "cell_type": "markdown",
      "source": [
        "## Build the Model\n",
        "\n",
        "We define the model using `tf.keras.Sequential`, composed of three main layers:\n",
        "\n",
        "- **Embedding Layer**: Maps character indices into dense vectors of size `embedding_dim`. This layer is trainable and learns character-level embeddings.\n",
        "- **GRU Layer**: A type of recurrent neural network that captures sequence dependencies. We use `return_sequences=True` so the model outputs a prediction at each time step. The `stateful=True` option helps the model retain memory across batches for better long-term dependency learning.\n",
        "- **Dense Layer**: Outputs logits for each character in the vocabulary, one per time step.\n",
        "\n",
        "The model is built using the specified `vocab_size`, `embedding_dim`, and `rnn_units`.\n",
        "\n",
        "### Flexible Model Builder with GRU or LSTM\n",
        "\n",
        "We enhance the model-building function to support both GRU and LSTM layers, selectable via a `rnn_type` argument.\n",
        "\n",
        "- `GRU`: Efficient and faster to train\n",
        "- `LSTM`: Better for capturing long-term dependencies\n",
        "\n",
        "Dropout is added to reduce overfitting. Layer normalization is included after the RNN layer for better training stability.\n",
        "This setup allows easy experimentation and comparison between different RNN architectures.\n"
      ],
      "metadata": {
        "id": "iZ70ed46JFqT"
      }
    },
    {
      "cell_type": "code",
      "source": [
        "# Length of the vocabulary in chars\n",
        "vocab_size = len(vocab)\n",
        "\n",
        "# The embedding dimension\n",
        "embedding_dim = 256\n",
        "\n",
        "# Number of RNN units\n",
        "rnn_units = 1024"
      ],
      "metadata": {
        "id": "vxJJePqRJDWc"
      },
      "execution_count": 19,
      "outputs": []
    },
    {
      "cell_type": "code",
      "source": [
        "def build_model(vocab_size, embedding_dim, rnn_units, batch_size,\n",
        "                rnn_type='GRU', dropout_rate=0.2):\n",
        "\n",
        "    inputs = tf.keras.Input(batch_shape=(batch_size, None), dtype=tf.int32)\n",
        "\n",
        "    x = tf.keras.layers.Embedding(vocab_size, embedding_dim)(inputs)\n",
        "\n",
        "    if rnn_type.upper() == 'GRU':\n",
        "        x = tf.keras.layers.GRU(\n",
        "            rnn_units,\n",
        "            return_sequences=True,\n",
        "            stateful=True,\n",
        "            dropout=dropout_rate,\n",
        "            recurrent_initializer='glorot_uniform'\n",
        "        )(x)\n",
        "    elif rnn_type.upper() == 'LSTM':\n",
        "        x = tf.keras.layers.LSTM(\n",
        "            rnn_units,\n",
        "            return_sequences=True,\n",
        "            stateful=True,\n",
        "            dropout=dropout_rate,\n",
        "            recurrent_initializer='glorot_uniform'\n",
        "        )(x)\n",
        "    else:\n",
        "        raise ValueError(\"rnn_type must be either 'GRU' or 'LSTM'\")\n",
        "\n",
        "    x = tf.keras.layers.LayerNormalization()(x)\n",
        "    outputs = tf.keras.layers.Dense(vocab_size)(x)\n",
        "\n",
        "    model = tf.keras.Model(inputs, outputs)\n",
        "    return model\n"
      ],
      "metadata": {
        "id": "pBDUdtwiJH36"
      },
      "execution_count": 20,
      "outputs": []
    },
    {
      "cell_type": "code",
      "source": [
        "model_gru = build_model(\n",
        "    vocab_size=vocab_size,\n",
        "    embedding_dim=embedding_dim,\n",
        "    rnn_units=rnn_units,\n",
        "    batch_size=BATCH_SIZE,\n",
        "    rnn_type='GRU'\n",
        ")\n",
        "\n",
        "model_lstm = build_model(\n",
        "    vocab_size=vocab_size,\n",
        "    embedding_dim=embedding_dim,\n",
        "    rnn_units=rnn_units,\n",
        "    batch_size=BATCH_SIZE,\n",
        "    rnn_type='LSTM'\n",
        ")"
      ],
      "metadata": {
        "id": "IG1p9TwhJIjE"
      },
      "execution_count": 21,
      "outputs": []
    },
    {
      "cell_type": "markdown",
      "source": [
        "### Try the Model\n",
        "\n",
        "Before training, we can run the model on a sample input batch to verify its behavior.\n",
        "\n",
        "- The model outputs a tensor of shape `(batch_size, sequence_length, vocab_size)`.\n",
        "- To simulate actual text generation, we sample from the output distribution at each time step using `tf.random.categorical`, instead of taking `argmax`, to avoid repetitive predictions.\n",
        "- Finally, we decode the predicted character indices to see the raw output of the untrained model.\n"
      ],
      "metadata": {
        "id": "yjHQ7YC0K-sU"
      }
    },
    {
      "cell_type": "code",
      "source": [
        "for input_example_batch, target_example_batch in dataset.take(1):\n",
        "    example_batch_predictions = model_gru.predict(input_example_batch)\n",
        "    print(example_batch_predictions.shape, \"# (batch_size, sequence_length, vocab_size)\")"
      ],
      "metadata": {
        "colab": {
          "base_uri": "https://localhost:8080/"
        },
        "id": "IS5ZY5vCKej2",
        "outputId": "9126ac6e-dee0-4459-964c-80dee4680797"
      },
      "execution_count": 22,
      "outputs": [
        {
          "output_type": "stream",
          "name": "stdout",
          "text": [
            "\u001b[1m1/1\u001b[0m \u001b[32m━━━━━━━━━━━━━━━━━━━━\u001b[0m\u001b[37m\u001b[0m \u001b[1m2s\u001b[0m 2s/step\n",
            "(32, 100, 50) # (batch_size, sequence_length, vocab_size)\n"
          ]
        }
      ]
    },
    {
      "cell_type": "code",
      "source": [
        "example_batch_predictions"
      ],
      "metadata": {
        "colab": {
          "base_uri": "https://localhost:8080/"
        },
        "id": "-l5B557LO0B-",
        "outputId": "dae40652-6f92-4fdc-8d67-2fe5c3d30571"
      },
      "execution_count": 23,
      "outputs": [
        {
          "output_type": "execute_result",
          "data": {
            "text/plain": [
              "array([[[ 1.62707195e-01, -2.98130155e-01, -2.36787617e-01, ...,\n",
              "          1.49577856e-01,  3.55823576e-01, -4.00275648e-01],\n",
              "        [-6.54234365e-02, -2.94892520e-01,  2.56340057e-01, ...,\n",
              "          1.05396621e-01,  3.34111243e-01, -4.77799624e-01],\n",
              "        [-3.69009554e-01,  1.51859149e-01, -3.57400328e-01, ...,\n",
              "          2.31665418e-01,  3.01686674e-01, -6.92625344e-01],\n",
              "        ...,\n",
              "        [ 3.09291929e-01, -2.45484009e-01, -2.58091152e-01, ...,\n",
              "          3.09803396e-01,  6.84053540e-01, -2.84064174e-01],\n",
              "        [ 1.30623877e-01,  1.70978546e-01, -4.79557753e-01, ...,\n",
              "          5.66088557e-01,  7.97091722e-01, -4.21520293e-01],\n",
              "        [-2.22277001e-01,  2.62772322e-01, -7.75019228e-01, ...,\n",
              "          4.68940049e-01,  4.26169038e-01, -5.74203610e-01]],\n",
              "\n",
              "       [[ 1.21824197e-01, -6.69976592e-01, -4.68687713e-02, ...,\n",
              "          3.00965101e-01,  7.75108188e-02, -3.10899794e-01],\n",
              "        [-2.47942626e-01, -2.46437505e-01, -2.00202703e-01, ...,\n",
              "          1.20065153e-01,  1.87305763e-01, -2.13465750e-01],\n",
              "        [ 9.17715207e-02, -3.20953041e-01,  5.81816852e-01, ...,\n",
              "          3.38049561e-01,  1.97102427e-01, -5.83761334e-01],\n",
              "        ...,\n",
              "        [ 4.11506832e-01,  2.76002139e-01, -2.40708798e-01, ...,\n",
              "          3.02918106e-01,  4.30024028e-01, -3.83607358e-01],\n",
              "        [-7.06567764e-02,  1.48180455e-01, -3.49799275e-01, ...,\n",
              "          8.24953988e-02,  3.01832348e-01, -2.26362646e-01],\n",
              "        [-3.25082093e-01, -5.86324453e-01, -1.20644405e-01, ...,\n",
              "         -1.35064602e-01,  3.51599097e-01,  1.41468242e-01]],\n",
              "\n",
              "       [[-2.26443246e-01,  1.74986690e-01, -3.56461793e-01, ...,\n",
              "         -1.34525087e-03,  1.89626403e-02, -2.28885725e-01],\n",
              "        [ 1.22272976e-01, -5.86941168e-02,  1.77952677e-01, ...,\n",
              "          1.81064963e-01,  4.62752096e-02, -5.44353306e-01],\n",
              "        [-2.76486933e-01,  1.24876052e-01,  2.09434424e-03, ...,\n",
              "         -2.48421654e-01,  1.27835855e-01, -1.86531097e-01],\n",
              "        ...,\n",
              "        [-9.22508314e-02,  2.03603491e-01, -4.78256553e-01, ...,\n",
              "          1.34354427e-01,  3.00501555e-01, -4.39897567e-01],\n",
              "        [ 3.65767926e-02, -3.29317689e-01, -3.93637270e-01, ...,\n",
              "          3.56918620e-03,  2.53023326e-01, -4.99409577e-03],\n",
              "        [ 2.92770207e-01, -4.38689083e-01, -3.26875806e-01, ...,\n",
              "         -5.06727472e-02,  5.93428493e-01, -3.27976376e-01]],\n",
              "\n",
              "       ...,\n",
              "\n",
              "       [[-3.49358499e-01,  7.31597617e-02, -2.42021576e-01, ...,\n",
              "         -4.45954561e-01, -7.05858096e-02,  4.05752867e-01],\n",
              "        [ 1.28179073e-01,  1.65739399e-03, -2.62694240e-01, ...,\n",
              "         -1.86897174e-01,  4.52245206e-01, -8.79913345e-02],\n",
              "        [-3.89037728e-01,  1.92970335e-01, -6.87672853e-01, ...,\n",
              "          6.32322654e-02,  3.26009691e-01, -5.59646845e-01],\n",
              "        ...,\n",
              "        [ 3.98029983e-01,  1.13633700e-01,  1.41477033e-01, ...,\n",
              "         -4.18210089e-01,  2.99752265e-01,  2.94705462e-02],\n",
              "        [ 3.93260121e-01,  5.60690165e-01, -3.57484519e-02, ...,\n",
              "         -4.40065205e-01,  1.94592983e-01,  1.12478703e-01],\n",
              "        [ 3.05453055e-02,  2.50486881e-01,  3.40472728e-01, ...,\n",
              "         -2.14001879e-01,  1.13488115e-01, -1.16192490e-01]],\n",
              "\n",
              "       [[ 5.15902638e-01, -1.02215931e-01, -1.64037064e-01, ...,\n",
              "          3.53780054e-02,  4.74289536e-01, -2.56624281e-01],\n",
              "        [-2.25308016e-02,  1.20122500e-01, -4.79775667e-01, ...,\n",
              "          2.68130481e-01,  5.20307600e-01, -3.72673154e-01],\n",
              "        [ 1.43907189e-01, -1.82309926e-01, -7.41638616e-02, ...,\n",
              "          3.55666429e-01, -2.49265321e-02, -5.88281870e-01],\n",
              "        ...,\n",
              "        [ 1.64418146e-01,  3.75916004e-01, -2.21059576e-01, ...,\n",
              "         -5.58067024e-01,  1.99689418e-01,  2.70404816e-02],\n",
              "        [ 4.82361838e-02,  1.51220471e-01,  3.40941131e-01, ...,\n",
              "         -2.38996938e-01,  1.75445545e-02, -1.42410304e-02],\n",
              "        [ 2.75349855e-01, -3.97941619e-02, -6.14269264e-02, ...,\n",
              "          2.42653653e-01,  2.77212560e-01, -2.49399528e-01]],\n",
              "\n",
              "       [[-3.12487692e-01,  4.53424692e-01, -1.49754807e-01, ...,\n",
              "          2.13477448e-01,  3.02480698e-01, -3.48361641e-01],\n",
              "        [-8.84618685e-02, -1.46739677e-01,  3.53413254e-01, ...,\n",
              "          3.37415516e-01,  1.11239344e-01, -4.94181067e-01],\n",
              "        [ 2.68988639e-01, -1.54761374e-01,  1.39646605e-01, ...,\n",
              "         -2.81157321e-04,  5.69088399e-01, -5.70358217e-01],\n",
              "        ...,\n",
              "        [ 1.67631552e-01, -1.23675182e-01,  2.62417942e-01, ...,\n",
              "         -2.03475952e-01,  4.63749059e-02, -2.81492084e-01],\n",
              "        [ 8.79895687e-02, -5.64594902e-02, -3.79436105e-01, ...,\n",
              "          3.21783304e-01,  1.47889465e-01, -4.86732811e-01],\n",
              "        [-1.61294892e-01, -3.80811572e-01, -5.71738720e-01, ...,\n",
              "          4.53314871e-01, -5.48872910e-02, -3.07150334e-01]]],\n",
              "      dtype=float32)"
            ]
          },
          "metadata": {},
          "execution_count": 23
        }
      ]
    },
    {
      "cell_type": "code",
      "source": [
        "model_gru.summary()\n",
        "print('\\n' * 3)\n",
        "model_lstm.summary()"
      ],
      "metadata": {
        "colab": {
          "base_uri": "https://localhost:8080/",
          "height": 679
        },
        "id": "miPS7z2aNUdl",
        "outputId": "48b3a090-6b8f-46c3-86e3-d543137a181a"
      },
      "execution_count": 24,
      "outputs": [
        {
          "output_type": "display_data",
          "data": {
            "text/plain": [
              "\u001b[1mModel: \"functional\"\u001b[0m\n"
            ],
            "text/html": [
              "<pre style=\"white-space:pre;overflow-x:auto;line-height:normal;font-family:Menlo,'DejaVu Sans Mono',consolas,'Courier New',monospace\"><span style=\"font-weight: bold\">Model: \"functional\"</span>\n",
              "</pre>\n"
            ]
          },
          "metadata": {}
        },
        {
          "output_type": "display_data",
          "data": {
            "text/plain": [
              "┏━━━━━━━━━━━━━━━━━━━━━━━━━━━━━━━━━┳━━━━━━━━━━━━━━━━━━━━━━━━┳━━━━━━━━━━━━━━━┓\n",
              "┃\u001b[1m \u001b[0m\u001b[1mLayer (type)                   \u001b[0m\u001b[1m \u001b[0m┃\u001b[1m \u001b[0m\u001b[1mOutput Shape          \u001b[0m\u001b[1m \u001b[0m┃\u001b[1m \u001b[0m\u001b[1m      Param #\u001b[0m\u001b[1m \u001b[0m┃\n",
              "┡━━━━━━━━━━━━━━━━━━━━━━━━━━━━━━━━━╇━━━━━━━━━━━━━━━━━━━━━━━━╇━━━━━━━━━━━━━━━┩\n",
              "│ input_layer (\u001b[38;5;33mInputLayer\u001b[0m)        │ (\u001b[38;5;34m32\u001b[0m, \u001b[38;5;45mNone\u001b[0m)             │             \u001b[38;5;34m0\u001b[0m │\n",
              "├─────────────────────────────────┼────────────────────────┼───────────────┤\n",
              "│ embedding (\u001b[38;5;33mEmbedding\u001b[0m)           │ (\u001b[38;5;34m32\u001b[0m, \u001b[38;5;45mNone\u001b[0m, \u001b[38;5;34m256\u001b[0m)        │        \u001b[38;5;34m12,800\u001b[0m │\n",
              "├─────────────────────────────────┼────────────────────────┼───────────────┤\n",
              "│ gru (\u001b[38;5;33mGRU\u001b[0m)                       │ (\u001b[38;5;34m32\u001b[0m, \u001b[38;5;45mNone\u001b[0m, \u001b[38;5;34m1024\u001b[0m)       │     \u001b[38;5;34m3,938,304\u001b[0m │\n",
              "├─────────────────────────────────┼────────────────────────┼───────────────┤\n",
              "│ layer_normalization             │ (\u001b[38;5;34m32\u001b[0m, \u001b[38;5;45mNone\u001b[0m, \u001b[38;5;34m1024\u001b[0m)       │         \u001b[38;5;34m2,048\u001b[0m │\n",
              "│ (\u001b[38;5;33mLayerNormalization\u001b[0m)            │                        │               │\n",
              "├─────────────────────────────────┼────────────────────────┼───────────────┤\n",
              "│ dense (\u001b[38;5;33mDense\u001b[0m)                   │ (\u001b[38;5;34m32\u001b[0m, \u001b[38;5;45mNone\u001b[0m, \u001b[38;5;34m50\u001b[0m)         │        \u001b[38;5;34m51,250\u001b[0m │\n",
              "└─────────────────────────────────┴────────────────────────┴───────────────┘\n"
            ],
            "text/html": [
              "<pre style=\"white-space:pre;overflow-x:auto;line-height:normal;font-family:Menlo,'DejaVu Sans Mono',consolas,'Courier New',monospace\">┏━━━━━━━━━━━━━━━━━━━━━━━━━━━━━━━━━┳━━━━━━━━━━━━━━━━━━━━━━━━┳━━━━━━━━━━━━━━━┓\n",
              "┃<span style=\"font-weight: bold\"> Layer (type)                    </span>┃<span style=\"font-weight: bold\"> Output Shape           </span>┃<span style=\"font-weight: bold\">       Param # </span>┃\n",
              "┡━━━━━━━━━━━━━━━━━━━━━━━━━━━━━━━━━╇━━━━━━━━━━━━━━━━━━━━━━━━╇━━━━━━━━━━━━━━━┩\n",
              "│ input_layer (<span style=\"color: #0087ff; text-decoration-color: #0087ff\">InputLayer</span>)        │ (<span style=\"color: #00af00; text-decoration-color: #00af00\">32</span>, <span style=\"color: #00d7ff; text-decoration-color: #00d7ff\">None</span>)             │             <span style=\"color: #00af00; text-decoration-color: #00af00\">0</span> │\n",
              "├─────────────────────────────────┼────────────────────────┼───────────────┤\n",
              "│ embedding (<span style=\"color: #0087ff; text-decoration-color: #0087ff\">Embedding</span>)           │ (<span style=\"color: #00af00; text-decoration-color: #00af00\">32</span>, <span style=\"color: #00d7ff; text-decoration-color: #00d7ff\">None</span>, <span style=\"color: #00af00; text-decoration-color: #00af00\">256</span>)        │        <span style=\"color: #00af00; text-decoration-color: #00af00\">12,800</span> │\n",
              "├─────────────────────────────────┼────────────────────────┼───────────────┤\n",
              "│ gru (<span style=\"color: #0087ff; text-decoration-color: #0087ff\">GRU</span>)                       │ (<span style=\"color: #00af00; text-decoration-color: #00af00\">32</span>, <span style=\"color: #00d7ff; text-decoration-color: #00d7ff\">None</span>, <span style=\"color: #00af00; text-decoration-color: #00af00\">1024</span>)       │     <span style=\"color: #00af00; text-decoration-color: #00af00\">3,938,304</span> │\n",
              "├─────────────────────────────────┼────────────────────────┼───────────────┤\n",
              "│ layer_normalization             │ (<span style=\"color: #00af00; text-decoration-color: #00af00\">32</span>, <span style=\"color: #00d7ff; text-decoration-color: #00d7ff\">None</span>, <span style=\"color: #00af00; text-decoration-color: #00af00\">1024</span>)       │         <span style=\"color: #00af00; text-decoration-color: #00af00\">2,048</span> │\n",
              "│ (<span style=\"color: #0087ff; text-decoration-color: #0087ff\">LayerNormalization</span>)            │                        │               │\n",
              "├─────────────────────────────────┼────────────────────────┼───────────────┤\n",
              "│ dense (<span style=\"color: #0087ff; text-decoration-color: #0087ff\">Dense</span>)                   │ (<span style=\"color: #00af00; text-decoration-color: #00af00\">32</span>, <span style=\"color: #00d7ff; text-decoration-color: #00d7ff\">None</span>, <span style=\"color: #00af00; text-decoration-color: #00af00\">50</span>)         │        <span style=\"color: #00af00; text-decoration-color: #00af00\">51,250</span> │\n",
              "└─────────────────────────────────┴────────────────────────┴───────────────┘\n",
              "</pre>\n"
            ]
          },
          "metadata": {}
        },
        {
          "output_type": "display_data",
          "data": {
            "text/plain": [
              "\u001b[1m Total params: \u001b[0m\u001b[38;5;34m4,004,402\u001b[0m (15.28 MB)\n"
            ],
            "text/html": [
              "<pre style=\"white-space:pre;overflow-x:auto;line-height:normal;font-family:Menlo,'DejaVu Sans Mono',consolas,'Courier New',monospace\"><span style=\"font-weight: bold\"> Total params: </span><span style=\"color: #00af00; text-decoration-color: #00af00\">4,004,402</span> (15.28 MB)\n",
              "</pre>\n"
            ]
          },
          "metadata": {}
        },
        {
          "output_type": "display_data",
          "data": {
            "text/plain": [
              "\u001b[1m Trainable params: \u001b[0m\u001b[38;5;34m4,004,402\u001b[0m (15.28 MB)\n"
            ],
            "text/html": [
              "<pre style=\"white-space:pre;overflow-x:auto;line-height:normal;font-family:Menlo,'DejaVu Sans Mono',consolas,'Courier New',monospace\"><span style=\"font-weight: bold\"> Trainable params: </span><span style=\"color: #00af00; text-decoration-color: #00af00\">4,004,402</span> (15.28 MB)\n",
              "</pre>\n"
            ]
          },
          "metadata": {}
        },
        {
          "output_type": "display_data",
          "data": {
            "text/plain": [
              "\u001b[1m Non-trainable params: \u001b[0m\u001b[38;5;34m0\u001b[0m (0.00 B)\n"
            ],
            "text/html": [
              "<pre style=\"white-space:pre;overflow-x:auto;line-height:normal;font-family:Menlo,'DejaVu Sans Mono',consolas,'Courier New',monospace\"><span style=\"font-weight: bold\"> Non-trainable params: </span><span style=\"color: #00af00; text-decoration-color: #00af00\">0</span> (0.00 B)\n",
              "</pre>\n"
            ]
          },
          "metadata": {}
        },
        {
          "output_type": "stream",
          "name": "stdout",
          "text": [
            "\n",
            "\n",
            "\n",
            "\n"
          ]
        },
        {
          "output_type": "display_data",
          "data": {
            "text/plain": [
              "\u001b[1mModel: \"functional_1\"\u001b[0m\n"
            ],
            "text/html": [
              "<pre style=\"white-space:pre;overflow-x:auto;line-height:normal;font-family:Menlo,'DejaVu Sans Mono',consolas,'Courier New',monospace\"><span style=\"font-weight: bold\">Model: \"functional_1\"</span>\n",
              "</pre>\n"
            ]
          },
          "metadata": {}
        },
        {
          "output_type": "display_data",
          "data": {
            "text/plain": [
              "┏━━━━━━━━━━━━━━━━━━━━━━━━━━━━━━━━━┳━━━━━━━━━━━━━━━━━━━━━━━━┳━━━━━━━━━━━━━━━┓\n",
              "┃\u001b[1m \u001b[0m\u001b[1mLayer (type)                   \u001b[0m\u001b[1m \u001b[0m┃\u001b[1m \u001b[0m\u001b[1mOutput Shape          \u001b[0m\u001b[1m \u001b[0m┃\u001b[1m \u001b[0m\u001b[1m      Param #\u001b[0m\u001b[1m \u001b[0m┃\n",
              "┡━━━━━━━━━━━━━━━━━━━━━━━━━━━━━━━━━╇━━━━━━━━━━━━━━━━━━━━━━━━╇━━━━━━━━━━━━━━━┩\n",
              "│ input_layer_1 (\u001b[38;5;33mInputLayer\u001b[0m)      │ (\u001b[38;5;34m32\u001b[0m, \u001b[38;5;45mNone\u001b[0m)             │             \u001b[38;5;34m0\u001b[0m │\n",
              "├─────────────────────────────────┼────────────────────────┼───────────────┤\n",
              "│ embedding_1 (\u001b[38;5;33mEmbedding\u001b[0m)         │ (\u001b[38;5;34m32\u001b[0m, \u001b[38;5;45mNone\u001b[0m, \u001b[38;5;34m256\u001b[0m)        │        \u001b[38;5;34m12,800\u001b[0m │\n",
              "├─────────────────────────────────┼────────────────────────┼───────────────┤\n",
              "│ lstm (\u001b[38;5;33mLSTM\u001b[0m)                     │ (\u001b[38;5;34m32\u001b[0m, \u001b[38;5;45mNone\u001b[0m, \u001b[38;5;34m1024\u001b[0m)       │     \u001b[38;5;34m5,246,976\u001b[0m │\n",
              "├─────────────────────────────────┼────────────────────────┼───────────────┤\n",
              "│ layer_normalization_1           │ (\u001b[38;5;34m32\u001b[0m, \u001b[38;5;45mNone\u001b[0m, \u001b[38;5;34m1024\u001b[0m)       │         \u001b[38;5;34m2,048\u001b[0m │\n",
              "│ (\u001b[38;5;33mLayerNormalization\u001b[0m)            │                        │               │\n",
              "├─────────────────────────────────┼────────────────────────┼───────────────┤\n",
              "│ dense_1 (\u001b[38;5;33mDense\u001b[0m)                 │ (\u001b[38;5;34m32\u001b[0m, \u001b[38;5;45mNone\u001b[0m, \u001b[38;5;34m50\u001b[0m)         │        \u001b[38;5;34m51,250\u001b[0m │\n",
              "└─────────────────────────────────┴────────────────────────┴───────────────┘\n"
            ],
            "text/html": [
              "<pre style=\"white-space:pre;overflow-x:auto;line-height:normal;font-family:Menlo,'DejaVu Sans Mono',consolas,'Courier New',monospace\">┏━━━━━━━━━━━━━━━━━━━━━━━━━━━━━━━━━┳━━━━━━━━━━━━━━━━━━━━━━━━┳━━━━━━━━━━━━━━━┓\n",
              "┃<span style=\"font-weight: bold\"> Layer (type)                    </span>┃<span style=\"font-weight: bold\"> Output Shape           </span>┃<span style=\"font-weight: bold\">       Param # </span>┃\n",
              "┡━━━━━━━━━━━━━━━━━━━━━━━━━━━━━━━━━╇━━━━━━━━━━━━━━━━━━━━━━━━╇━━━━━━━━━━━━━━━┩\n",
              "│ input_layer_1 (<span style=\"color: #0087ff; text-decoration-color: #0087ff\">InputLayer</span>)      │ (<span style=\"color: #00af00; text-decoration-color: #00af00\">32</span>, <span style=\"color: #00d7ff; text-decoration-color: #00d7ff\">None</span>)             │             <span style=\"color: #00af00; text-decoration-color: #00af00\">0</span> │\n",
              "├─────────────────────────────────┼────────────────────────┼───────────────┤\n",
              "│ embedding_1 (<span style=\"color: #0087ff; text-decoration-color: #0087ff\">Embedding</span>)         │ (<span style=\"color: #00af00; text-decoration-color: #00af00\">32</span>, <span style=\"color: #00d7ff; text-decoration-color: #00d7ff\">None</span>, <span style=\"color: #00af00; text-decoration-color: #00af00\">256</span>)        │        <span style=\"color: #00af00; text-decoration-color: #00af00\">12,800</span> │\n",
              "├─────────────────────────────────┼────────────────────────┼───────────────┤\n",
              "│ lstm (<span style=\"color: #0087ff; text-decoration-color: #0087ff\">LSTM</span>)                     │ (<span style=\"color: #00af00; text-decoration-color: #00af00\">32</span>, <span style=\"color: #00d7ff; text-decoration-color: #00d7ff\">None</span>, <span style=\"color: #00af00; text-decoration-color: #00af00\">1024</span>)       │     <span style=\"color: #00af00; text-decoration-color: #00af00\">5,246,976</span> │\n",
              "├─────────────────────────────────┼────────────────────────┼───────────────┤\n",
              "│ layer_normalization_1           │ (<span style=\"color: #00af00; text-decoration-color: #00af00\">32</span>, <span style=\"color: #00d7ff; text-decoration-color: #00d7ff\">None</span>, <span style=\"color: #00af00; text-decoration-color: #00af00\">1024</span>)       │         <span style=\"color: #00af00; text-decoration-color: #00af00\">2,048</span> │\n",
              "│ (<span style=\"color: #0087ff; text-decoration-color: #0087ff\">LayerNormalization</span>)            │                        │               │\n",
              "├─────────────────────────────────┼────────────────────────┼───────────────┤\n",
              "│ dense_1 (<span style=\"color: #0087ff; text-decoration-color: #0087ff\">Dense</span>)                 │ (<span style=\"color: #00af00; text-decoration-color: #00af00\">32</span>, <span style=\"color: #00d7ff; text-decoration-color: #00d7ff\">None</span>, <span style=\"color: #00af00; text-decoration-color: #00af00\">50</span>)         │        <span style=\"color: #00af00; text-decoration-color: #00af00\">51,250</span> │\n",
              "└─────────────────────────────────┴────────────────────────┴───────────────┘\n",
              "</pre>\n"
            ]
          },
          "metadata": {}
        },
        {
          "output_type": "display_data",
          "data": {
            "text/plain": [
              "\u001b[1m Total params: \u001b[0m\u001b[38;5;34m5,313,074\u001b[0m (20.27 MB)\n"
            ],
            "text/html": [
              "<pre style=\"white-space:pre;overflow-x:auto;line-height:normal;font-family:Menlo,'DejaVu Sans Mono',consolas,'Courier New',monospace\"><span style=\"font-weight: bold\"> Total params: </span><span style=\"color: #00af00; text-decoration-color: #00af00\">5,313,074</span> (20.27 MB)\n",
              "</pre>\n"
            ]
          },
          "metadata": {}
        },
        {
          "output_type": "display_data",
          "data": {
            "text/plain": [
              "\u001b[1m Trainable params: \u001b[0m\u001b[38;5;34m5,313,074\u001b[0m (20.27 MB)\n"
            ],
            "text/html": [
              "<pre style=\"white-space:pre;overflow-x:auto;line-height:normal;font-family:Menlo,'DejaVu Sans Mono',consolas,'Courier New',monospace\"><span style=\"font-weight: bold\"> Trainable params: </span><span style=\"color: #00af00; text-decoration-color: #00af00\">5,313,074</span> (20.27 MB)\n",
              "</pre>\n"
            ]
          },
          "metadata": {}
        },
        {
          "output_type": "display_data",
          "data": {
            "text/plain": [
              "\u001b[1m Non-trainable params: \u001b[0m\u001b[38;5;34m0\u001b[0m (0.00 B)\n"
            ],
            "text/html": [
              "<pre style=\"white-space:pre;overflow-x:auto;line-height:normal;font-family:Menlo,'DejaVu Sans Mono',consolas,'Courier New',monospace\"><span style=\"font-weight: bold\"> Non-trainable params: </span><span style=\"color: #00af00; text-decoration-color: #00af00\">0</span> (0.00 B)\n",
              "</pre>\n"
            ]
          },
          "metadata": {}
        }
      ]
    },
    {
      "cell_type": "code",
      "source": [
        "sampled_indices = tf.random.categorical(\n",
        "    logits=example_batch_predictions[0],  # shape = (sequence_length, vocab_size)\n",
        "    num_samples=1\n",
        ")"
      ],
      "metadata": {
        "id": "7CecfU88OCyi"
      },
      "execution_count": 25,
      "outputs": []
    },
    {
      "cell_type": "code",
      "source": [
        "sampled_indices = tf.squeeze(sampled_indices, axis=-1).numpy()"
      ],
      "metadata": {
        "id": "yhzZejBNOjwU"
      },
      "execution_count": 26,
      "outputs": []
    },
    {
      "cell_type": "code",
      "source": [
        "sampled_indices"
      ],
      "metadata": {
        "colab": {
          "base_uri": "https://localhost:8080/"
        },
        "id": "nhvE9BVHO_Js",
        "outputId": "a1fd8513-f1b1-4de0-e68a-1abafd5f43a5"
      },
      "execution_count": 27,
      "outputs": [
        {
          "output_type": "execute_result",
          "data": {
            "text/plain": [
              "array([ 0, 45, 12,  1,  3, 43, 21, 49, 10, 13, 14,  6, 37,  4, 33, 26,  9,\n",
              "       41, 46, 26, 34, 31,  7, 39, 16, 32, 14,  5, 42, 35, 44, 27, 19, 23,\n",
              "       20,  9, 34,  5, 35,  6, 26, 12, 25,  7,  6, 47, 22,  1,  0, 21, 49,\n",
              "       41, 37,  9, 49, 16, 40, 40, 30, 34, 29, 32, 19, 27, 28, 41, 38,  3,\n",
              "        9,  2,  2,  0, 38, 44, 37, 20, 25, 34, 19, 16, 25,  8,  4,  6, 18,\n",
              "       38, 31, 26,  2, 33, 24,  7, 17,  3,  0, 30, 35, 35, 29, 13])"
            ]
          },
          "metadata": {},
          "execution_count": 27
        }
      ]
    },
    {
      "cell_type": "code",
      "source": [
        "input_text = ''.join([idx2char[i] for i in input_example_batch[0].numpy()])"
      ],
      "metadata": {
        "id": "mhfLPjXsOmLg"
      },
      "execution_count": 28,
      "outputs": []
    },
    {
      "cell_type": "code",
      "source": [
        "predicted_text = ''.join([idx2char[i] for i in sampled_indices])"
      ],
      "metadata": {
        "id": "WfIAF_EVOmd8"
      },
      "execution_count": 29,
      "outputs": []
    },
    {
      "cell_type": "code",
      "source": [
        "print(\"Input: \\n\", repr(input_text))\n",
        "print()\n",
        "print(\"Next Char Predictions: \\n\", repr(predicted_text))"
      ],
      "metadata": {
        "colab": {
          "base_uri": "https://localhost:8080/"
        },
        "id": "PAxNBc8SOqvA",
        "outputId": "93b231c9-e5d5-47b8-f6f8-57fe27d1ef33"
      },
      "execution_count": 30,
      "outputs": [
        {
          "output_type": "stream",
          "name": "stdout",
          "text": [
            "Input: \n",
            " 'ای قبهٔ گردندهٔ بی روزن خضرا\\nبا قامت فرتوتی و با قوت برنا\\nفرزند توایم ای فلک، ای مادر بدمهر\\nای مادر '\n",
            "\n",
            "Next Char Predictions: \n",
            " '\\nچء (ٔجی؛آؤ:ق)ظر،هژرعض«ماطؤ.وغپزتخث،ع.غ:رءذ«:کح \\nجیهق،یاننصعشطتزسهل(،!!\\nلپقثذعتاذ»):ةلضر!ظد«ب(\\nصغغشآ'\n"
          ]
        }
      ]
    },
    {
      "cell_type": "markdown",
      "source": [
        "## Train the model"
      ],
      "metadata": {
        "id": "olquFPcFRAUn"
      }
    },
    {
      "cell_type": "markdown",
      "source": [
        "### Loss Function and Model Compilation\n",
        "\n",
        "We define a custom loss function using `sparse_categorical_crossentropy`, suitable for multi-class classification tasks with integer labels.  \n",
        "Since the model outputs raw logits (not softmax probabilities), we set `from_logits=True`.\n",
        "\n",
        "We then compile the model using the Adam optimizer and our loss function to prepare it for training.\n"
      ],
      "metadata": {
        "id": "Qb9zEFtDMlfB"
      }
    },
    {
      "cell_type": "code",
      "source": [
        "def loss(labels, logits):\n",
        "    return tf.keras.losses.sparse_categorical_crossentropy(labels, logits, from_logits=True)"
      ],
      "metadata": {
        "id": "P2_8fi6BQ_Lr"
      },
      "execution_count": 31,
      "outputs": []
    },
    {
      "cell_type": "code",
      "source": [
        "example_batch_loss = loss(target_example_batch, example_batch_predictions)"
      ],
      "metadata": {
        "id": "lGd1jplJM2TY"
      },
      "execution_count": 32,
      "outputs": []
    },
    {
      "cell_type": "code",
      "source": [
        "print(\"Prediction shape: \", example_batch_predictions.shape, \" # (batch_size, sequence_length, vocab_size)\")\n",
        "print(\"Example batch loss (mean):\", tf.reduce_mean(example_batch_loss).numpy())"
      ],
      "metadata": {
        "id": "geW6mEf3Q-SP",
        "colab": {
          "base_uri": "https://localhost:8080/"
        },
        "outputId": "f5df9f0c-1181-4534-eaf2-5d1223ebc0e8"
      },
      "execution_count": 33,
      "outputs": [
        {
          "output_type": "stream",
          "name": "stdout",
          "text": [
            "Prediction shape:  (32, 100, 50)  # (batch_size, sequence_length, vocab_size)\n",
            "Example batch loss (mean): 4.020863\n"
          ]
        }
      ]
    },
    {
      "cell_type": "code",
      "source": [
        "# GRU\n",
        "model_gru.compile(\n",
        "    optimizer=tf.keras.optimizers.Adam(learning_rate=0.001),\n",
        "    loss=loss,\n",
        "    metrics=[tf.keras.metrics.SparseCategoricalAccuracy()]\n",
        ")\n",
        "\n",
        "# LSTM\n",
        "model_lstm.compile(\n",
        "    optimizer=tf.keras.optimizers.Adam(learning_rate=0.001),\n",
        "    loss=loss,\n",
        "    metrics=[tf.keras.metrics.SparseCategoricalAccuracy()]\n",
        ")"
      ],
      "metadata": {
        "id": "1w7tZdVmMzmE"
      },
      "execution_count": 35,
      "outputs": []
    },
    {
      "cell_type": "code",
      "source": [],
      "metadata": {
        "id": "VJRG8XApNXfW"
      },
      "execution_count": null,
      "outputs": []
    }
  ],
  "metadata": {
    "colab": {
      "provenance": [],
      "gpuType": "T4"
    },
    "kernelspec": {
      "display_name": "Python 3",
      "name": "python3"
    },
    "language_info": {
      "codemirror_mode": {
        "name": "ipython",
        "version": 3
      },
      "file_extension": ".py",
      "mimetype": "text/x-python",
      "name": "python",
      "nbconvert_exporter": "python",
      "pygments_lexer": "ipython3",
      "version": "3.7.6"
    },
    "accelerator": "GPU"
  },
  "nbformat": 4,
  "nbformat_minor": 0
}